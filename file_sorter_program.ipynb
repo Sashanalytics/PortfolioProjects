{
 "cells": [
  {
   "attachments": {},
   "cell_type": "markdown",
   "metadata": {},
   "source": [
    "# Automatic File Sorter\n",
    "\n",
    "This code reads the files in folders and sorts them into their respective files dependent on their file type. It is a simple code but very useful for folders that get a bit too cluttered with various files.\n",
    "\n",
    "First, we import relevant libraries, then establish the path where the folder is and how they will be organized. Next, we use a loop to read through the files and create folders according to file types."
   ]
  },
  {
   "cell_type": "code",
   "execution_count": 1,
   "metadata": {},
   "outputs": [],
   "source": [
    "import os, shutil"
   ]
  },
  {
   "cell_type": "code",
   "execution_count": 2,
   "metadata": {},
   "outputs": [],
   "source": [
    "path = r'C:/Users/admin/Documents/JET/SchoolStuff/3年/'"
   ]
  },
  {
   "cell_type": "code",
   "execution_count": 3,
   "metadata": {},
   "outputs": [],
   "source": [
    "files = os.listdir(path)"
   ]
  },
  {
   "cell_type": "code",
   "execution_count": 4,
   "metadata": {},
   "outputs": [],
   "source": [
    "folder_names = ['word_docs', 'ppt_files', 'pdf_files']\n",
    "\n",
    "for folder in range(0,3):\n",
    "    if not os.path.exists(path + folder_names[folder]):\n",
    "        os.makedirs(path + folder_names[folder])\n",
    "\n",
    "for file in files:\n",
    "    if \".doc\" in file and not os.path.exists(path + \"word_docs/\" + file):\n",
    "        shutil.move(path + file, path + \"word_docs/\" + file)\n",
    "    elif \".ppt\" in file and not os.path.exists(path + \"ppt_files/\" + file):\n",
    "        shutil.move(path + file, path + \"ppt_files/\" + file)\n",
    "    elif \".pdf\" in file and not os.path.exists(path + \"pdf_files/\" + file):\n",
    "        shutil.move(path + file, path + \"pdf_files/\" + file)"
   ]
  }
 ],
 "metadata": {
  "kernelspec": {
   "display_name": "base",
   "language": "python",
   "name": "python3"
  },
  "language_info": {
   "codemirror_mode": {
    "name": "ipython",
    "version": 3
   },
   "file_extension": ".py",
   "mimetype": "text/x-python",
   "name": "python",
   "nbconvert_exporter": "python",
   "pygments_lexer": "ipython3",
   "version": "3.9.12"
  },
  "orig_nbformat": 4
 },
 "nbformat": 4,
 "nbformat_minor": 2
}
